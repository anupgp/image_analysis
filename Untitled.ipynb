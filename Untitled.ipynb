{
 "cells": [
  {
   "cell_type": "code",
   "execution_count": 33,
   "id": "toxic-murder",
   "metadata": {},
   "outputs": [],
   "source": [
    "import pandas as pd\n",
    "import numpy as np\n",
    "import re"
   ]
  },
  {
   "cell_type": "code",
   "execution_count": 39,
   "id": "naughty-facing",
   "metadata": {},
   "outputs": [
    {
     "data": {
      "text/plain": [
       "[2]"
      ]
     },
     "execution_count": 39,
     "metadata": {},
     "output_type": "execute_result"
    }
   ],
   "source": [
    "s  = [\"a\",\"b\",\"cc\",'d']\n",
    "[i for i,item in zip(np.arange(0,len(s)),s) if re.match(\"c\",item)]\n"
   ]
  },
  {
   "cell_type": "code",
   "execution_count": 24,
   "id": "environmental-thinking",
   "metadata": {},
   "outputs": [
    {
     "name": "stdout",
     "output_type": "stream",
     "text": [
      "    name  count\n",
      "0   anup      1\n",
      "1   anup      1\n",
      "2   anup      1\n",
      "3   babu      2\n",
      "4   babu      2\n",
      "5   babu      2\n",
      "6   mary      3\n",
      "7   mary      3\n",
      "8   mary      3\n",
      "9    tom      4\n",
      "10   tom      4\n",
      "11   tom      4\n"
     ]
    }
   ],
   "source": [
    "df = pd.DataFrame({\"name\": np.repeat([\"anup\",\"babu\",\"mary\",\"tom\"],3),\"count\":np.repeat([1,2,3,4],3)})\n",
    "print(df)"
   ]
  }
 ],
 "metadata": {
  "kernelspec": {
   "display_name": "Python 3",
   "language": "python",
   "name": "python3"
  },
  "language_info": {
   "codemirror_mode": {
    "name": "ipython",
    "version": 3
   },
   "file_extension": ".py",
   "mimetype": "text/x-python",
   "name": "python",
   "nbconvert_exporter": "python",
   "pygments_lexer": "ipython3",
   "version": "3.6.12"
  }
 },
 "nbformat": 4,
 "nbformat_minor": 5
}
